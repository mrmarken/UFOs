{
 "cells": [
  {
   "cell_type": "markdown",
   "id": "2e901f15",
   "metadata": {},
   "source": [
    "# 11.1.3 - Writing JavaScript"
   ]
  },
  {
   "cell_type": "markdown",
   "id": "25f5760a",
   "metadata": {},
   "source": [
    "**Why will we be using DevTools to check and debug our code?**\n",
    "\n",
    "~We’ll use DevTools because using VS Code to run and debug JavaScript code takes longer and doesn’t look as neat. - no response given~\n",
    "\n",
    "~We’ll use DevTools because DevTools will keep code in memory if we refresh the page. - no response given~\n",
    "\n",
    "**We’ll use DevTools because the console available in DevTools is our JS command line interface.**\n",
    "\n",
    "Correct. Nice work! The DevTools console is where we have the ability to create code, test it, or run a JS script. "
   ]
  },
  {
   "cell_type": "markdown",
   "id": "5a110178",
   "metadata": {},
   "source": [
    "## Statements and Expressions\n",
    "When describing JavaScript code, the terms \"statements\" and \"expressions\" are both used, and often. Here's how to distinguish between the two:\n",
    "\n",
    " * Statements perform actions.\n",
    " * Expressions create values.\n",
    "\n",
    "Assigning a variable is an example of a statement. Using arithmetic to create a new value is an expression.\n",
    "\n",
    "## Code Blocks\n",
    "Code blocks, which we will see more often as we start writing functions, are denoted by curly brackets. Code inside the curly brackets are typically indented two to four spaces. This isn't required to run the code, but it does make reading it easier and follows the coding guidelines."
   ]
  },
  {
   "cell_type": "markdown",
   "id": "a925055c",
   "metadata": {},
   "source": [
    "# 11.2.1 - JavaScript Components"
   ]
  },
  {
   "cell_type": "markdown",
   "id": "4d9a4a20",
   "metadata": {},
   "source": [
    "### What are the main differences between assigning a variable in Python and JavaScript?\n",
    "\n",
    "~There really aren’t any differences between the two. Variables are assigned the same way in both languages.~\n",
    "\n",
    "**In JavaScript, a variable is assigned by first declaring it. Completion of the statement is indicated with a semicolon.**\n",
    "\n",
    "~JavaScript is a little more lax with the syntax; declaring the variable is more explicit, but only until developers are used to the language. Then variables are declared the same way in both languages.~\n",
    "\n",
    "**Correct.** Nice work! The process is similar, but JavaScript has a few syntactical requirements that Python does not."
   ]
  },
  {
   "cell_type": "markdown",
   "id": "e795ff97",
   "metadata": {},
   "source": [
    "## Create Variables with let\n",
    "The biggest difference between `var` and `let` is that the `var` declaration is global, meaning it applies to the program instead of being contained in a block of code.\n",
    "\n",
    "When a developer chooses to use `let`, it basically means \"I might want to use this variable again later to hold different data, but in this code block I'll only use it once.\" In ES6+, `let` is typically used in place of `var`. We'll be using `let` in this module, but both are encountered out in the wild.\n",
    "\n",
    "\n",
    "## Create Variables with const\n",
    "The `const` declaration is more specific than `let`. Instead of being contained within a block of code, `const` tells JavaScript that the variable won't be reassigned or redeclared, either in a block of code or within the program as a whole. The following table highlights the key differences of `var`, `let`, and `const`:\n",
    "\n",
    "|  |  |  |\n",
    "| --- | --- | --- |\n",
    "| **Least specific** | var | Variable used in entire program |\n",
    "| | let | Variable used in a code block |\n",
    "| **Most specific** | const | Variable used once|\n",
    "\n",
    "Now that we've discovered three different ways to declare variables in JavaScript, let's take a look at arrays.\n",
    "\n",
    "## Arrays\n",
    "When coding in Python, data can be grouped together in a list. The same is true of JavaScript. In fact, Dana was inspired to learn JavaScript because the data is already stored in a JavaScript array! Let's take a look at the data to see what we're working with. \n"
   ]
  },
  {
   "cell_type": "markdown",
   "id": "111270ed",
   "metadata": {},
   "source": [
    "### What is the difference between this JavaScript array and a Python dictionary?\n",
    "\n",
    "**The array was closed with a square bracket and a semicolon immediately after ( ]; ). The semicolon signals that this block of code is complete.**\n",
    "\n",
    "~There isn’t a difference; both a Python dictionary and this JavaScript array are completed by adding the other curly bracket.~\n",
    "\n",
    "~There isn’t a difference; the JavaScript array is closed with a square bracket, just like a Python list.~\n",
    "\n",
    "**Correct.** Nice work! Semicolons are part of the JavaScript coding guidelines and are used to signal completed code blocks."
   ]
  },
  {
   "cell_type": "markdown",
   "id": "132673ca",
   "metadata": {},
   "source": [
    "### How is a JavaScript array like the one in our data.js file different from a Python list? Select all that apply.\n",
    "\n",
    "The completed block of code is signaled by a semicolon.\n",
    "\n",
    "Multiple events are recorded as part of a collection (date, location, time, for example) instead of a simpler collection such as a list of numbers (like 1, 2, 3).\n",
    "\n",
    "Unlike a Python dictionary, the key value in a JavaScript object does not need to be in quotes.\n",
    "\n",
    "**Correct.**"
   ]
  },
  {
   "cell_type": "markdown",
   "id": "ade57749",
   "metadata": {},
   "source": [
    "## Convert the Array to a Table\n",
    "\n",
    "To convert the array to a table, we're going to take the following code and turn it into a table.\n",
    "\n",
    "The first step in transitioning the data from an array to a table is to create the appropriate variables using `var`, `let`, or `const`. Open VS Code and create a file in our repo folder named `app.js`. This is where we'll keep the code that builds the HTML table and fills it with data from `data.js`.\n"
   ]
  },
  {
   "cell_type": "markdown",
   "id": "fe594ffb",
   "metadata": {},
   "source": [
    "# 11.2.2 - Organize Your Repository"
   ]
  },
  {
   "cell_type": "markdown",
   "id": "f31b755d",
   "metadata": {},
   "source": [
    "Before we get too far along with our coding, we need to set up a file organization system for our repo. The end result of this project will be an HTML page or application, so we need to establish the proper folder structure accordingly. At a high level, here's what we'll do:\n",
    "\n",
    "* Create the `index.html` file.\n",
    "* Create a subfolder to hold the CSS file (style.css).\n",
    "* Create a subfolder for images.\n",
    "* Create a subfolder to hold JavaScript.\n",
    "\n",
    "First, in the repo folder we established earlier (\"UFOs\"), create the `index.html` file. This file is the window to our work: the table and Dana's article summary (along with titles and filters) will all be displayed through this file. We won't be coding it yet—that will come later—but we're creating it now so that it will be ready for us when it's time to build the page.\n",
    "\n",
    "Next, create a subfolder in the repo folder named \"static.\" This static folder will hold our static CSS file; this only means that it isn't being moved or altered externally. In VS code, right-click the menu and select \"New Folder,\" and then name it \"static.\"\n",
    "\n",
    "Inside the static folder, create another subfolder named \"css\" to hold the `style.css` file. You can use the same right-click method to bring up the creation menu, but this time select \"New File.\" We'll customize our webpage using the `style.css` sheet, but for now we can leave it blank. Here's what the folder structure should look like so far when viewing it in VS Code."
   ]
  },
  {
   "cell_type": "markdown",
   "id": "e57ce255",
   "metadata": {},
   "source": [
    "***\n",
    "Establishing this folder structure is a best practice when creating webpages with JavaScript. It's important to keep things organized when creating a webpage using JavaScript components, as there are even more moving pieces than a static website. We'll be linking to images and a style sheet as well as JavaScript scripts. The organization presented here provides clearly designated spots to store the code we'll be working on, making it easier to locate them as we go.\n",
    "***\n"
   ]
  },
  {
   "cell_type": "markdown",
   "id": "968b23ff",
   "metadata": {},
   "source": [
    "# 11.2.3 - JavaScript Objects"
   ]
  },
  {
   "cell_type": "markdown",
   "id": "e18f88b9",
   "metadata": {},
   "source": [
    "Coding in JavaScript requires proficiency with JavaScript objects. And, in JavaScript, many different things can be considered an \"object.\"\n",
    "\n",
    "\n",
    "As mentioned earlier, this looks very similar to a Python dictionary or something we'd find in a JSON file. In this code snippet, everything within the curly brackets is considered to be properties of a JavaScript object. The object is our variable: data.\n",
    "\n",
    "There are several ways we can access the properties, also called key-value pairs or objects, in the array."
   ]
  },
  {
   "cell_type": "markdown",
   "id": "039b84c2",
   "metadata": {},
   "source": [
    "*** \n",
    "### Quiz\n",
    "Highlight the array in the JavaScript code below.\n",
    "\n",
    "```\n",
    "let weatherToday = [\n",
    "    {\n",
    "      year: \"2019\",\n",
    "      month: \"October\",\n",
    "      high: \"89\",\n",
    "      low: \"65\",\n",
    "      measurement: \"Farenheit\"\n",
    "    }\n",
    "]\n",
    "```\n",
    "\n",
    "**weatherToday**\n",
    "\n",
    "Correct.\n",
    "***"
   ]
  },
  {
   "cell_type": "markdown",
   "id": "612a2cee",
   "metadata": {},
   "source": [
    "Also, objects are not limited to being contained within an array. In fact, an array itself is an object. Dates are also objects, as are functions; and Booleans can be objects. Basically, many things can be—or are—objects. We'll get plenty of practice with objects as we start to build our website.\n",
    "\n",
    "Before building the website, we should plan it out. By using a storyboard and mapping the elements out beforehand, it will be easier to assemble them later.\n"
   ]
  },
  {
   "cell_type": "markdown",
   "id": "c0a6307c",
   "metadata": {},
   "source": [
    "# 11.2.4 - Storyboarding"
   ]
  },
  {
   "cell_type": "markdown",
   "id": "0b300b73",
   "metadata": {},
   "source": [
    "Typically, developers build HTML and JavaScript elements somewhat simultaneously because they complement each other. For example, the JavaScript table will be referenced within the HTML code, and different HTML components will be referenced within the JavaScript code. Because these files are so closely linked, Dana will switch between building the JavaScript table (within the `app.js` file) and the HTML page (within an `index.html` file).\n",
    "\n",
    "Dana also has a solid idea of how she wants her webpage to look, but it's easy to get lost in the details of building a webpage without a visual reference. A visual reference such as a storyboard will help Dana outline all of the elements she wants included, such as the article title, a summary, and the table itself. Then, when she begins creating JavaScript code to include the table, she'll know exactly which HTML components she'll be connecting to her table. Dana already knows she'll have several individual components on the webpage, shown below:\n"
   ]
  },
  {
   "cell_type": "markdown",
   "id": "7196fd03",
   "metadata": {},
   "source": [
    "![fig](http://localhost:8888/tree/Notes/data-11-2-4-1-unordered-components-of-a-webpage.png)\n"
   ]
  },
  {
   "cell_type": "markdown",
   "id": "4d64be63",
   "metadata": {},
   "source": [
    "## Create a Storyboard\n",
    "\n",
    "A **storyboard** serves as a kind of blueprint for your site and helps with the transition from idea to finished product. Think of it as a map of the webpage.\n"
   ]
  },
  {
   "cell_type": "markdown",
   "id": "c777f43b",
   "metadata": {},
   "source": [
    "![fig2](http://localhost:8888/tree/Notes/data-11-2-4-2-storyboard-of-the-website-with-components-neatly-organized.png)"
   ]
  },
  {
   "cell_type": "markdown",
   "id": "82453228",
   "metadata": {},
   "source": [
    "This step is key for a couple of reasons.\n",
    "\n",
    "First, knowing how we want the webpage to look before building it will save us time later. Second, it helps us make sure we've captured everything we want displayed. Sometimes, seeing the map of the website helps us ensure that all the elements we want displayed are included.\n",
    "\n",
    "We already know what components we want to use, such as a Jumbotron for the header, and the grid system for the filters and table. See the following image:\n",
    "\n"
   ]
  },
  {
   "attachments": {},
   "cell_type": "markdown",
   "id": "721fb4d0",
   "metadata": {},
   "source": [
    "![fig3](http://localhost:8888/tree/Notes/data-11-2-4-3-webpage-storyboard-with-html-and-bootstrap-elements-identified.png)\n"
   ]
  },
  {
   "cell_type": "markdown",
   "id": "f772b98c",
   "metadata": {},
   "source": [
    "We also have an idea of how many columns we want each table component to use.\n",
    "\n",
    "![fig3](http://localhost:8888/tree/Notes/data-11-2-4-4-table-portion-of-storyboard-with-bootstrap-columns-assigned.png)\n",
    "\n",
    "Now that a storyboard is in place, we can really get going! Let's align our code.\n",
    "***\n",
    "***\n"
   ]
  },
  {
   "cell_type": "markdown",
   "id": "580633de",
   "metadata": {},
   "source": [
    "## Align the Code\n",
    "\n",
    "When we align our code, we're putting our plans into action, such as when we start transitioning our storyboard into a webpage. We'll start by building our components. The first one will be the table we generate with JavaScript. Open your `app.js` file with VS Code. The first thing we're going to do is import the data. This won't look like an import from Python. For starters, the double backslash ( // ) is how you comment your code in JavaScript.\n",
    "\n",
    "In your code editor, type the following to declare a variable, `tableData`, using `const`.\n"
   ]
  },
  {
   "cell_type": "markdown",
   "id": "1e990ace",
   "metadata": {},
   "source": [
    "***\n",
    "### Quiz\n",
    "Why is const used to declare the tableData variable?\n",
    "\n",
    "**We don’t want the variable to be reassigned or reused at all in our program.**\n",
    "\n",
    "~We want to use the most updated method of declaring variables.~\n",
    "\n",
    "~We want the data to be immutable.~\n",
    "\n",
    "**Correct.** Nice work! Our raw data shouldn’t be altered; we’ll create variables later in the code to capture the filtered data.\n",
    "\n",
    "***"
   ]
  },
  {
   "cell_type": "markdown",
   "id": "728cf989",
   "metadata": {},
   "source": [
    "Next, we need to point our data to our HTML page. Specifically, we need to tell JavaScript what type of element the data will be displayed in. We already know that the data will be displayed in a table, so in our code editor we'll reference the tbody HTML tag using D3.\n",
    "\n",
    "***\n",
    "#### IMPORTANT\n",
    "D3 is a JavaScript library that produces sophisticated and highly dynamic graphics in an HTML webpage. It is often used by data professionals to create dashboards, or a collection of visual data (such as graphs and maps), for presentation.\n",
    "***\n",
    "\n",
    "\n",
    "Return to your code editor and type the following:\n",
    "\n",
    "```\n",
    "// Reference the HTML table using d3\n",
    "var tbody = d3.select(\"tbody\");\n",
    "```\n",
    "\n",
    "With this code, we:\n",
    "1. Declare a variable, `tbody`\n",
    "2. Use `d3.select` to tell JavaScript to look for the `<tbody>` tags in the HTML\n",
    "\n",
    "Although we aren't building the HTML right now—we'll do this after we put together the code—we already know that the data will fit into that tag because it's a standard table tag that is used often in HTML, with or without JavaScript enhancements."
   ]
  },
  {
   "cell_type": "markdown",
   "id": "041ae903",
   "metadata": {},
   "source": [
    "***\n",
    "***\n",
    "***\n",
    "\n",
    "# 11.3.1 - Getting Started with JavaScript Functions"
   ]
  },
  {
   "cell_type": "markdown",
   "id": "3dcf9b79",
   "metadata": {},
   "source": [
    "Functions in Python and JavaScript have similar logic: we provide the language with a set of instructions to follow, which can then be reused as needed. Watch the following video to learn more about JavaScript functions.\n"
   ]
  },
  {
   "cell_type": "markdown",
   "id": "294ac7cf",
   "metadata": {},
   "source": [
    "In Python, a simple print statement looks like this:\n",
    "\n",
    "```\n",
    "# Simple Python print statement\n",
    "def print_hello():\n",
    "    print(\"Hello there!\")\n",
    "```\n",
    "\n",
    "In this code, the function is declared with the keyword `def` followed by the name of the function, a set of parentheses, and a colon, with the indented code below.\n",
    "\n",
    "To write a print statement in JavaScript, we begin the same way: by declaring the function. To do this, we use the keyword `function`. (Note: Remember that the JavaScript syntax uses `console.log` instead of `print`.)\n",
    "\n",
    "```\n",
    "// Simple JavaScript console.log statement\n",
    "function printHello();\n",
    "```\n",
    "\n",
    "At this point, the process diverges from Python. The next step is to add a set of curly brackets, and then add the indented code between them.\n",
    "\n",
    "```\n",
    "// Simple JavaScript console.log statement\n",
    "function printHello() {\n",
    "  console.log(\"Hello there!\");\n",
    "}\n",
    "```\n"
   ]
  },
  {
   "cell_type": "markdown",
   "id": "732c4b1e",
   "metadata": {},
   "source": [
    "Choose the correct JavaScript version of this Python function:\n",
    "```\n",
    "def show():\n",
    "    print(\"Hi!\")\n",
    "```\n",
    "\n",
    "```\n",
    "function show()\n",
    "    return ”Hi!”;\n",
    "```\n",
    "\n",
    "```\n",
    "function show() {\n",
    "    print(”Hi!”)\n",
    "```\n",
    "```\n",
    "function show() {\n",
    "    return ”Hi!”;\n",
    "    };\n",
    "```\n",
    "***\n",
    "```\n",
    "function show() {\n",
    "    return ”Hi!”;\n",
    "    };\n",
    "```\n",
    "***\n"
   ]
  },
  {
   "cell_type": "markdown",
   "id": "b5ac1bf8",
   "metadata": {},
   "source": [
    "***\n",
    "\n",
    "# 11.3.2 - Simple JavaScript Functions"
   ]
  },
  {
   "cell_type": "markdown",
   "id": "8ab003c2",
   "metadata": {},
   "source": [
    "Arguments can be passed into both Python and JavaScript functions. Let's take a look at another Python function as an example. Look at the following code:\n",
    "\n",
    "```\n",
    "# Takes two numbers and adds them\n",
    "def addition(a, b):\n",
    "    return a + b\n",
    "```\n",
    "\n",
    "In this function, we've added the ability to input two numbers and add them. Let's convert this same function to JavaScript in the DevTools console. Type the following on a new line in your console:\n",
    "\n",
    "```\n",
    "// Takes two numbers and adds them\n",
    "function addition(a, b) {\n",
    "  return a + b;\n",
    "}\n",
    "```\n"
   ]
  },
  {
   "cell_type": "markdown",
   "id": "1e3e8ec0",
   "metadata": {},
   "source": [
    "***\n",
    "#### Quiz\n",
    "Using the numbers 4 and 5, how would you run the addition function in the console?\n",
    "\n",
    "~log.addition(4, 5);~\n",
    "\n",
    "**console.log(addition(4, 5));**\n",
    "\n",
    "~console.log(addition(a, b));~\n",
    "\n",
    "**Correct.** Nice work! console.log is JavaScript’s version of a print statement. Then you pass in the name of the function and the numbers.\n",
    "***\n"
   ]
  },
  {
   "cell_type": "markdown",
   "id": "5e52928c",
   "metadata": {},
   "source": [
    "To test the new function, type `console.log(addition(4, 5));`. This is the equivalent of using a print statement in Python to print the function. Like Python, we can condense the code even further by typing only `addition(4, 5);` to execute the function as well.\n",
    "\n",
    "#### IMPORTANT\n",
    "In the \"addition\" function created above, the items within the parentheses are referred to as parameters. For example:\n",
    "\n",
    "`function addition(a, b) { return a + b; }`\n",
    "\n",
    "In this function, data points `a` and `b` are the parameters. Think of them as placeholders for the values we will add later, such as 4 and 5.\n",
    "\n",
    "Functions in JavaScript can have any number of parameters. However, from a practical standpoint, it's not a good idea to have more than two parameters per function. Too many arguments can significantly slow down and even crash your code.\n"
   ]
  },
  {
   "cell_type": "markdown",
   "id": "a6911d6f",
   "metadata": {},
   "source": [
    "Functions are a versatile tool in any coding language, and JavaScript is no different. Functions can also call other functions. The code below creates a new function that includes our simple function within it. In your console, type the doubleAddition function below:\n",
    "\n",
    "```\n",
    "// Functions can call other functions\n",
    "function doubleAddition(c, d) {\n",
    "  var total = addition(c, d) * 2;\n",
    "  return total;\n",
    "}\n",
    "```\n",
    "***\n",
    "#### Quiz\n",
    "**What does this function within a function do?**\n",
    "\n",
    "**The new function takes two arguments, c and d, and incorporates the original addition function we wrote earlier to multiply the sum of two numbers by 2.**\n",
    "\n",
    "~The new function just adds numbers twice.~\n",
    "\n",
    "~The new function will multiply the first two numbers given, then take the second function that will also multiply the digits.~\n",
    "\n",
    "**Correct.** This function uses an existing function to perform arithmetic\n",
    "***\n",
    "\n",
    "Let's run the new function, `doubleAddition`, with the same figures we used earlier: 4 and 5. Within this function, we're calling our original function (`addition`) and multiplying the sum of 4 and 5 by 2. We've assigned a variable to the function we've already created, so that we can print the total using a return statement.\n",
    "\n",
    "***\n",
    "#### Quiz\n",
    "**Run the new function, `doubleAddition`, in your console using the numbers 65 and 34. What is the total returned?**\n",
    "\n",
    "~188~\n",
    "\n",
    "~199~\n",
    "\n",
    "**198**\n",
    "\n",
    "~201~\n",
    "\n",
    "**Correct.** Nice work! The sum of 65 and 34 multiplied by two is 198.\n",
    "***\n",
    "\n",
    "So far, we've created a function that performs simple addition and a second function that calls our original function, which is a great introduction to JavaScript functions.\n",
    "\n",
    "\n",
    "Like functions in Python, JavaScript functions are very versatile and can incorporate many other actions, such as incorporating for loops, which we will explore shortly.\n",
    "\n",
    "First, let's explore one of the key improvements to JavaScript functions introduced by ES6: arrow functions."
   ]
  },
  {
   "cell_type": "markdown",
   "id": "c9042fe5",
   "metadata": {},
   "source": [
    "***\n",
    "# 11.3.3 - From Simple Functions to Arrow Functions\n"
   ]
  },
  {
   "cell_type": "markdown",
   "id": "cc4fa778",
   "metadata": {},
   "source": [
    "Functions in JavaScript can easily become bulky and difficult to understand. Thankfully, any standard function in JavaScript can be refactored into an arrow function. **Arrow functions** complete the same functions as regular functions, but they use a more compact and concise syntax that makes a code script shorter and easier to read. Watch the following video to learn more about arrow functions.\n",
    "\n",
    "***\n",
    "#### NOTE\n",
    "Arrow functions are also known as fat arrow functions because they are introduced with a \"fat arrow\": =>\n",
    "\n",
    "This type of function is very similar to how a Python lambda function is written.\n",
    "***\n"
   ]
  },
  {
   "cell_type": "markdown",
   "id": "84df528e",
   "metadata": {},
   "source": [
    "Let's take a look at a simple function.\n",
    "\n",
    "```\n",
    "// Simple JavaScript log statement\n",
    "function printHello() {\n",
    "  return \"Hello there!\";\n",
    "}\n",
    "```\n",
    "\n",
    "This function, while already fairly short and sweet, can be condensed even further. In the console, type the following code and then press Enter.\n",
    "\n",
    "```\n",
    "printHello = () => \"Hello there!\";\n",
    "```\n",
    "\n",
    "When the function is called, our statement will be printed to the console. This is a pretty big change from traditional JavaScript functions.\n",
    "\n",
    "***\n",
    "#### Quiz\n",
    "What are some differences between traditional functions and arrow functions? Select all that apply.\n",
    "\n",
    "There is no return statement. - correct\n",
    "\n",
    "The function keyword is missing. - correct\n",
    "\n",
    "console.log(); isn’t included. - correct\n",
    "\n",
    "**Correct.**\n",
    "***\n",
    "\n",
    "Let's break down the differences in a bit more detail.\n",
    "\n",
    "1. The arrow function collapses the function from 3 lines to 1 line, which is a significant reduction in characters.\n",
    "2. The `function` keyword is not part of the arrow function. This is because the arrow symbol (=>) indicates that this block (or line) of code is a function.\n",
    "3. The `return` keyword and `console.log()` are removed because with this new syntax, JavaScript inherently knows what will be returned.\n"
   ]
  },
  {
   "cell_type": "markdown",
   "id": "9b98651d",
   "metadata": {},
   "source": [
    "Let's convert another function, this time with parameters. Here's the original function:\n",
    "\n",
    "```\n",
    "// Original addition function\n",
    "function addition(a, b) {\n",
    "  return a + b;\n",
    "}\n",
    "```\n",
    "\n",
    "In your code editor, type the following:\n",
    "\n",
    "```\n",
    "// Converted to an arrow function\n",
    "addition = (a, b) => a + b;\n",
    "```\n",
    "\n",
    "Once again, a multi-line function has been reduced to a single line. We have removed the `function` keyword, the curly brackets, and the return statement, and added a fat arrow to indicate that \"addition\" is a function. It's clear and easy to read—and it performs the same way as the original function!\n",
    "\n",
    "Now let's step it up one more time and convert the `doubleAddition` function, shown below.\n",
    "\n",
    "```\n",
    "// Original doubleAddition function\n",
    "function doubleAddition(c, d) {\n",
    "  var total = addition(c, d) * 2;\n",
    "  return total;\n",
    "}\n",
    "```\n",
    "\n",
    "Even this function can be refactored into a single line. Let's begin the process by following the standard syntax: the name of the function, an equals sign, and then the parameters.\n",
    "\n",
    "```\n",
    "doubleAddition = (c, d)\n",
    "```\n",
    "\n",
    "The next step in refactoring is to add the fat arrow followed by the argument. In this case, the argument is the second function.\n",
    "\n",
    "```\n",
    "=> addition(c, d) * 2;\n",
    "```\n",
    "\n",
    "#### SKILL DRILL\n",
    "Use the newly refactored `doubleAddition` function to find the total of 33 and 25. => **116**\n",
    "\n",
    "***\n",
    "Familiarity with both types—traditional functions and arrow functions—is important. Both are used often in development, and by the time we're done with this project, we'll have used a combination of the two.\n",
    "\n",
    "Also, keep in mind that while arrow functions are clear and readable, there are still cases in which traditional functions are necessary. For example, when we want to place a function within another function, we would need to use a traditional function.\n"
   ]
  },
  {
   "cell_type": "markdown",
   "id": "cf4e34ff",
   "metadata": {},
   "source": [
    "***\n",
    "***\n",
    "***\n",
    "\n",
    "# 11.4.1 - Use a JavaScript for Loop\n"
   ]
  },
  {
   "cell_type": "markdown",
   "id": "080c09e8",
   "metadata": {},
   "source": [
    "All coding and scripting languages have a way to iterate through items, such as names in a list. In JavaScript, this process is initiated by the keyword \"for\" and works in the same manner as a Python for loop. Let's see how this works.\n",
    "\n",
    "Add the following array to your console.\n",
    "\n",
    "`let friends = [\"Sarah\", \"Greg\", \"Cindy\", \"Jeff\"];`\n",
    "\n",
    "#### NOTE\n",
    "As soon as you press Enter, the words \"undefined\" will appear directly below your line of code. This is how you know that you've successfully executed the line of code and the array has been saved locally.\n"
   ]
  },
  {
   "cell_type": "markdown",
   "id": "e634e124",
   "metadata": {},
   "source": [
    "To iterate through each name in JavaScript, we can create a for loop. First, type the following in your console:\n",
    "\n",
    "```\n",
    "function listLoop(userList) {\n",
    "   for (var i = 0; i < userList.length; i++) {\n",
    "     console.log(userList[i]);\n",
    "   }\n",
    "}\n",
    "```\n",
    "\n",
    "Wow, this `for` loop is pretty involved! Let's compare it to a Python loop and examine the differences.\n",
    "\n",
    "|  |  |\n",
    "| --- | --- |\n",
    "| **JavaScript `for` loop** | **Python `for` loop** |\n",
    "| `for (var i = 0; i < userList.length; i++) {console.log(userList[i]); }` | `for i in user_list: print(i)` |\n"
   ]
  },
  {
   "cell_type": "markdown",
   "id": "6d3549a1",
   "metadata": {},
   "source": [
    "These two loops do the same thing: they iterate through a list and then print each item within it individually. The `for` keyword at the beginning of the loop is the biggest similarity here, so let's start there.\n",
    "\n",
    "The keyword `for` is the trigger that indicates we'll be iterating through a list. The next line in the JavaScript loop does a few different things, though. This one line can be broken down into three sections.\n",
    "\n",
    "![fig5](http://localhost:8888/tree/Notes/data-11-4-1-1-javascript-for-loop-broken-down-into-3-sections.png)\n",
    "\n",
    "The following actions occur in this one line:\n",
    "\n",
    "1. var i = 0 We assign an iterable variable and set its value to zero. In this loop, think of the letter 'i' to mean 'iterate.' When we assign a zero value, we're starting a counter from the beginning. You can also think of it in terms of list comprehension–the first name of the list has an index value of zero, for example.\n",
    "\n",
    "\n",
    "2. i < userList.length; Here we're basically saying, \"If this iterable (i) is still smaller than the total number of iterables in the list (userList), then move on to the next step.\"\n",
    "\n",
    "    So if we're on the second name, but the list is four names long, the for loop will continue to loop through it.\n",
    "\n",
    "\n",
    "3. The final step, i++, increases the iterable by 1. We're using list comprehension here; the for loop knows to iterate to the next name because the index number has increased by 1.\n",
    "\n",
    "When the length of i is equal to the total number of items in the list, the for loop will complete its iterations and the next line of code will be executed. For example, Jeff's index position is 3; when i is equal to 3, the loop is complete. This is because there are no names after Jeff's, nothing with an index value of 4."
   ]
  },
  {
   "cell_type": "markdown",
   "id": "8fd8eb07",
   "metadata": {},
   "source": [
    "***\n",
    "#### Quiz\n",
    "What is the result of running the listLoop function in your console? Note: Remember to add your array of names first.\n",
    "\n",
    "**Each name is logged in the console, one after the other.**\n",
    "\n",
    "~Nothing, there is a NaN response.~\n",
    "\n",
    "~The names are all printed in the console, but they’re still in an array.~\n",
    "\n",
    "**Correct.** Nice work! The function will log each name as an output.\n",
    "***\n"
   ]
  },
  {
   "cell_type": "markdown",
   "id": "dacca7fc",
   "metadata": {},
   "source": [
    "Since our code says to log, or print, each iteration, the names in the array are printed to the console one at a time.\n",
    "\n",
    "![fig6](http://localhost:8888/tree/Notes/data-11-4-1-2-output-running-list-loop-function.png)\n",
    "***\n"
   ]
  },
  {
   "cell_type": "markdown",
   "id": "42e3a575",
   "metadata": {},
   "source": [
    "# 11.4.2 - Practice Using for Loops in JavaScript\n"
   ]
  },
  {
   "cell_type": "markdown",
   "id": "8efdd592",
   "metadata": {},
   "source": [
    "First, let's create a for loop to iterate through an array of vegetables. Here's our array:\n",
    "\n",
    "`let vegetables = [\"Carrots\", \"Peas\", \"Lettuce\", \"Tomatoes\"];`\n",
    "\n",
    "Now we're going to build the for loop. The syntax is exactly the same as it was earlier.\n",
    "\n",
    "`for (var i = 0; i < vegetables.length; i++) {\n",
    "}`\n",
    "\n",
    "We're using the keyword `for` to initiate the loop. We also start the loop at the beginning by assigning an iterable as zero with `var i = 0;`.\n",
    "\n",
    "Next, we tell the loop to continue working through the array as long as the iterable (\"i\") is less than the number of vegetables in our array: `i < vegetables.length;`.\n",
    "\n",
    "Finally, we increase our iterable by 1 by adding `i++`; which tells JavaScript to move to the next item in the array until there are no more items.\n",
    "\n",
    "Let's say we also want each item in the array to be printed to the console. To do this, we'll add a `console.log` statement inside the curly brackets. Let's add a message to go with each item, too, so it will read \"I love [vegetable]\" with each iteration.\n",
    "\n",
    "The final code looks like this:\n",
    "\n",
    "```\n",
    "var vegetables = [\"Carrots\", \"Peas\", \"Lettuce\", \"Tomatoes\"];\n",
    "\n",
    "for (var i = 0; i < vegetables.length; i++) {\n",
    "    console.log(\"I love \" + vegetables[i]);\n",
    "}\n",
    "```\n",
    "\n",
    "Let's practice with one more. This time we'll loop through numbers without using an array.\n",
    "\n",
    "```\n",
    "for (var i = 0; i < 5; i++) {\n",
    "   console.log(\"I am \" + i);\n",
    "}\n",
    "```\n",
    "\n",
    "The only difference between this loop and the previous one is that we aren't referring to an array. Instead, we are explicitly telling JavaScript to count up to a fifth value."
   ]
  },
  {
   "cell_type": "markdown",
   "id": "eda08c86",
   "metadata": {},
   "source": [
    "***\n",
    "#### Quiz\n",
    "Highlight the section of code that determines the number of iterations.\n",
    "\n",
    "```\n",
    "for (var i = 0; i < 5; i++) {\n",
    "   console.log(\"I am \" + i);\n",
    "```\n",
    "\n",
    "**`i < 5` Correct.**\n",
    "\n",
    "***"
   ]
  },
  {
   "cell_type": "markdown",
   "id": "ae703b46",
   "metadata": {},
   "source": [
    "***\n",
    "***\n",
    "***\n",
    "\n",
    "# 11.5.1 - Introduction to Dynamic Tables"
   ]
  },
  {
   "cell_type": "markdown",
   "id": "35c22aeb",
   "metadata": {},
   "source": [
    "Dana's code is somewhat modest right now, but it's about to get a lot more interesting. Now we're going to help her build the table to display all of the UFO sightings. We'll need to iterate through the array of objects in our data file and then append them to a table row. All of this will happen within a function, which makes the code self-contained.\n",
    "\n",
    "Creating self-contained code makes it easier to reuse the code and keeps us organized: the code in this function will be used to fill the table with data only.\n",
    "\n",
    "Let's get started by returning to our app.js file in the editor and, on a new line, creating a new function.\n",
    "\n",
    "Typically, functions are named after what they do. We're building a table, so we'll name the function \"buildTable.\" We'll also pass in \"data\" as the argument. Remember that we used the variable \"data\" earlier to import our array of UFO sightings? This is the first step in actually working with the data.\n",
    "\n",
    "In our editor, we should have the start of a new function:\n",
    "\n",
    "```\n",
    "function buildTable(data) {\n",
    "\n",
    "}\n",
    "```\n",
    "\n",
    "We're using a standard JavaScript function instead of an arrow function because of what we'll be inserting inside the function (hint: another function!). Let's start building out the rest of the function.\n",
    "\n",
    "In the next line, we'll want to use code to clear existing data.\n",
    "\n",
    "***\n",
    "#### Quiz\n",
    "Why should you clear existing data from the table?\n",
    "\n",
    "~You don’t need to, but clearing the existing data follows coding guidelines.~\n",
    "\n",
    "~It’s a good idea because it keeps the code nice and tidy.~\n",
    "\n",
    "**Because we need to clear the data first, otherwise the data users search will already be filtered when they search again.**\n",
    "\n",
    "**Correct.** Clearing existing data is important because we’ll be appending data from the array in the following code. Without clearing it, the users will end up with pre-filtered data.\n",
    "***\n"
   ]
  },
  {
   "cell_type": "markdown",
   "id": "2ce6d73c",
   "metadata": {},
   "source": [
    "Clearing the existing data creates a fresh table in which we can insert data. If we didn't clear existing data first, then we would find ourselves reinserting data that already exists, thus creating duplicates and making a bit of a mess. It's good practice to clear the existing data first to give ourselves a clean slate to work with.\n",
    "\n",
    "The line we'll use to clear the data is `tbody.html(\"\");`. But how exactly is this code clearing data?\n",
    "\n",
    "* `tbody.html` references the table, pointing JavaScript directly to the table in the HTML page we're going to build.\n",
    "* The parentheses with empty quotes (`(\"\");`) is an empty string.\n",
    "\n",
    "Basically, this entire line—`tbody.html(\"\");`—tells JavaScript to use an empty string when creating the table; in other words, create a blank canvas. This is a standard way to clear data.\n",
    "\n",
    "Here is what our code looks like with the addition of this line:\n",
    "\n",
    "```\n",
    "function buildTable(data) {\n",
    "  tbody.html(\"\");\n",
    "}\n",
    "```\n",
    "\n",
    "***\n",
    "Now that we have the start of a clean table, let's apply the `forEach` function.\n"
   ]
  },
  {
   "cell_type": "markdown",
   "id": "01e9a43a",
   "metadata": {},
   "source": [
    "***\n",
    "***\n",
    "***\n",
    "# 11.5.2 - Add forEach to Your Table\n"
   ]
  },
  {
   "cell_type": "markdown",
   "id": "64c45481",
   "metadata": {},
   "source": [
    "**Now** Dana is ready to start adding data to her table. To do so, she'll need to create another function specifically for building the table. Data from the `data.js` file will be inserted into the table, row by row. This sounds like iterating through an array using a `for loopforEach`, doesn't it?\n",
    "\n",
    "This time, we'll use a `forEach` function, which loops through the array in the same way as a `for` loop. The difference is that `forEach` works only with arrays. Another benefit is that `forEach` can be combined with an arrow function, once again making the code more concise and easy to read.\n",
    "\n",
    "\n",
    "In the next step, we'll incorporate a `forEach` function that loops through our data array, and then adds rows of data to the table. \n"
   ]
  },
  {
   "cell_type": "markdown",
   "id": "45811906",
   "metadata": {},
   "source": [
    "## Add the forEach Function\n",
    "This function works in the same way as a `for` loop. In your code editor, type the following:\n",
    "```\n",
    "   data.forEach((dataRow) => {\n",
    "\n",
    "    });\n",
    "```\n",
    "\n",
    "Notice the fat arrow? We're using an arrow function here because it's a cleaner way to write a forEach loop. There's nothing wrong with using a traditional for loop—the code would behave in the exact same manner—but it is neater and easier to read."
   ]
  },
  {
   "cell_type": "markdown",
   "id": "51cb9c0f",
   "metadata": {},
   "source": [
    "***\n",
    "#### Quiz\n",
    "\n",
    "Match the components of the code to their actions.\n",
    "![fig7](http://localhost:8888/tree/Notes/11.5.2_quiz.png)\n",
    "\n",
    "Given responses:\n",
    "1. `data` - An object that references the data being imported\n",
    "2. `forEach` - The keywords to create a for loop in JavaScript\n",
    "3. `dataRow` - A parameter that will be used as a value when the function is called\n",
    "\n",
    "**Correct.**\n",
    "***\n"
   ]
  },
  {
   "cell_type": "markdown",
   "id": "1025cf0d",
   "metadata": {},
   "source": [
    "With this new function, we have essentially chained a for loop to our data. We also added an argument (dataRow) that will represent each row of the data as we iterate through the array. Now we want to create a variable that will append a row to the table body. Within this forEach function, add the following code:\n",
    "\n",
    "`   let row = tbody.append(\"tr\");`\n",
    "\n",
    "#### NOTE\n",
    "Notice that we're using `let` instead of `var` to declare the `row` variable. That's because this variable is limited to just this block of code. It's more appropriate to use `var` when we want the variable to be available globally, or throughout all of the code.\n",
    "\n",
    "This single line of code is doing a lot. It tells JavaScript to find the `<tbody>` tag within the HTML and add a table row (`\"tr\"`).\n",
    "\n",
    "We'll get back to HTML when it's time to display our table, but for now keep in mind that the `<tr>` tags are used for each row in a table. Each object, or UFO sighting, in the array will be wrapped in a `<tr>` tag.\n"
   ]
  },
  {
   "cell_type": "markdown",
   "id": "d6101920",
   "metadata": {},
   "source": [
    "## Loop Through Data Rows\n",
    "Next, we'll add code to loop through each field in the dataRow argument. These fields will become table data and will be wrapped in <td> tags when they're appended to the HTML table. It gets a little confusing here, but we're going to set up another function within our original function for the forEach loop.\n",
    "\n",
    "Below the line where we appended table rows, we'll set up another function:\n",
    "\n",
    "```\n",
    "    Object.values(dataRow).forEach((val) => {\n",
    "});\n",
    "```\n",
    "    \n",
    "We're already working with an array of objects, where each object is a UFO sighting. By starting our line of code with `Object.values`, we're telling JavaScript to reference one object from the array of UFO sightings. By adding `(dataRow)` as the argument, we are saying that we want the values to go into the dataRow. We've added `forEach((val)` to specify that we want one object per row.\n",
    "\n",
    "Let's think of it this way: we're telling our code put each sighting onto its own row of data. The val argument represents each item in the object, such as the location, shape, or duration.\n",
    "\n",
    "In the next two lines of code, we'll append each value of the object to a cell in the table. In our editor, the next few lines of code will go inside our new function. Let's first create a variable to append data to a table:\n",
    "\n",
    "`   let cell = row.append(\"td\");`\n",
    "\n",
    "With this line, we've set up the action of appending data into a table data tag (`<td>`). Now, in the next line we'll add the values.\n",
    "\n",
    "`   cell.text(val);`\n"
   ]
  },
  {
   "cell_type": "markdown",
   "id": "9fe5bdb1",
   "metadata": {},
   "source": [
    "***\n",
    "#### Quiz\n",
    "What does the line `cell.text(val)`; accomplish?\n",
    "\n",
    "**This is the variable that holds only each value from the object. - correct**\n",
    "\n",
    "~It adds the key and value pair from the object.~\n",
    "\n",
    "~It adds only the key to each cell of the table.~\n",
    "\n",
    "**Correct.** Nice work! When we chain .text(value) to the variable, we are extracting only the text of the value.\n",
    "***\n"
   ]
  },
  {
   "cell_type": "code",
   "execution_count": null,
   "id": "d65771da",
   "metadata": {},
   "outputs": [],
   "source": []
  }
 ],
 "metadata": {
  "kernelspec": {
   "display_name": "PythonData",
   "language": "python",
   "name": "pythondata"
  },
  "language_info": {
   "codemirror_mode": {
    "name": "ipython",
    "version": 3
   },
   "file_extension": ".py",
   "mimetype": "text/x-python",
   "name": "python",
   "nbconvert_exporter": "python",
   "pygments_lexer": "ipython3",
   "version": "3.7.13"
  }
 },
 "nbformat": 4,
 "nbformat_minor": 5
}
